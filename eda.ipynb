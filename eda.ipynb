{
 "cells": [
  {
   "cell_type": "code",
   "execution_count": 70,
   "metadata": {},
   "outputs": [],
   "source": [
    "import pandas as pd\n",
    "import numpy as np\n",
    "import pymongo\n",
    "%matplotlib inline\n",
    "from matplotlib import pyplot as plt"
   ]
  },
  {
   "cell_type": "code",
   "execution_count": 3,
   "metadata": {},
   "outputs": [],
   "source": [
    "myclient = pymongo.MongoClient(\"mongodb://localhost:27017/\")\n",
    "mydb = myclient[\"zavrsni_db\"]\n",
    "drivers_collection = mydb[\"drivers\"]\n",
    "obd_data_collection = mydb[\"obd_data\"]\n",
    "trips_collection = mydb[\"trips\"]"
   ]
  },
  {
   "cell_type": "code",
   "execution_count": 14,
   "metadata": {},
   "outputs": [],
   "source": [
    "df_drivers = pd.DataFrame(list(drivers_collection.find()))\n",
    "df_obd = pd.DataFrame(list(obd_data_collection.find()))\n",
    "df_trips = pd.DataFrame(list(trips_collection.find()))"
   ]
  },
  {
   "cell_type": "code",
   "execution_count": 10,
   "metadata": {},
   "outputs": [],
   "source": []
  },
  {
   "cell_type": "code",
   "execution_count": 90,
   "metadata": {},
   "outputs": [
    {
     "data": {
      "text/html": [
       "<div>\n",
       "<style scoped>\n",
       "    .dataframe tbody tr th:only-of-type {\n",
       "        vertical-align: middle;\n",
       "    }\n",
       "\n",
       "    .dataframe tbody tr th {\n",
       "        vertical-align: top;\n",
       "    }\n",
       "\n",
       "    .dataframe thead th {\n",
       "        text-align: right;\n",
       "    }\n",
       "</style>\n",
       "<table border=\"1\" class=\"dataframe\">\n",
       "  <thead>\n",
       "    <tr style=\"text-align: right;\">\n",
       "      <th></th>\n",
       "      <th>_id</th>\n",
       "      <th>vehicle</th>\n",
       "      <th>androidId</th>\n",
       "      <th>gender</th>\n",
       "      <th>age</th>\n",
       "    </tr>\n",
       "  </thead>\n",
       "  <tbody>\n",
       "    <tr>\n",
       "      <td>0</td>\n",
       "      <td>5fd1f2274d291a3bf49194ea</td>\n",
       "      <td>Alfa Romeo Giulietta 2012</td>\n",
       "      <td>565c540be5ee059a</td>\n",
       "      <td>male</td>\n",
       "      <td>25</td>\n",
       "    </tr>\n",
       "    <tr>\n",
       "      <td>1</td>\n",
       "      <td>5fd1f4a54d291a3bf49194eb</td>\n",
       "      <td>Citroen C4 Picasso 2015</td>\n",
       "      <td>49a68088082721e5</td>\n",
       "      <td>female</td>\n",
       "      <td>52</td>\n",
       "    </tr>\n",
       "    <tr>\n",
       "      <td>2</td>\n",
       "      <td>5fd1f4fb4d291a3bf49194ec</td>\n",
       "      <td>Fiat Grande Punto 2007</td>\n",
       "      <td>93089fee5e666ae4</td>\n",
       "      <td>female</td>\n",
       "      <td>26</td>\n",
       "    </tr>\n",
       "    <tr>\n",
       "      <td>3</td>\n",
       "      <td>5fd1f5134d291a3bf49194ed</td>\n",
       "      <td>Fiat Grande Punto 2007</td>\n",
       "      <td>31308a71d02bc97e</td>\n",
       "      <td>male</td>\n",
       "      <td>26</td>\n",
       "    </tr>\n",
       "    <tr>\n",
       "      <td>4</td>\n",
       "      <td>5fd1f57a4d291a3bf49194ee</td>\n",
       "      <td>Fiat Punto Evo 2011</td>\n",
       "      <td>f35d74efacbff28a</td>\n",
       "      <td>female</td>\n",
       "      <td>25</td>\n",
       "    </tr>\n",
       "  </tbody>\n",
       "</table>\n",
       "</div>"
      ],
      "text/plain": [
       "                        _id                    vehicle         androidId  \\\n",
       "0  5fd1f2274d291a3bf49194ea  Alfa Romeo Giulietta 2012  565c540be5ee059a   \n",
       "1  5fd1f4a54d291a3bf49194eb    Citroen C4 Picasso 2015  49a68088082721e5   \n",
       "2  5fd1f4fb4d291a3bf49194ec     Fiat Grande Punto 2007  93089fee5e666ae4   \n",
       "3  5fd1f5134d291a3bf49194ed     Fiat Grande Punto 2007  31308a71d02bc97e   \n",
       "4  5fd1f57a4d291a3bf49194ee        Fiat Punto Evo 2011  f35d74efacbff28a   \n",
       "\n",
       "   gender age  \n",
       "0    male  25  \n",
       "1  female  52  \n",
       "2  female  26  \n",
       "3    male  26  \n",
       "4  female  25  "
      ]
     },
     "execution_count": 90,
     "metadata": {},
     "output_type": "execute_result"
    }
   ],
   "source": [
    "df_drivers.head(5)"
   ]
  },
  {
   "cell_type": "code",
   "execution_count": 86,
   "metadata": {},
   "outputs": [],
   "source": [
    "full_desc = df_drivers.describe()"
   ]
  },
  {
   "cell_type": "code",
   "execution_count": 87,
   "metadata": {},
   "outputs": [
    {
     "data": {
      "text/html": [
       "<div>\n",
       "<style scoped>\n",
       "    .dataframe tbody tr th:only-of-type {\n",
       "        vertical-align: middle;\n",
       "    }\n",
       "\n",
       "    .dataframe tbody tr th {\n",
       "        vertical-align: top;\n",
       "    }\n",
       "\n",
       "    .dataframe thead th {\n",
       "        text-align: right;\n",
       "    }\n",
       "</style>\n",
       "<table border=\"1\" class=\"dataframe\">\n",
       "  <thead>\n",
       "    <tr style=\"text-align: right;\">\n",
       "      <th></th>\n",
       "      <th>_id</th>\n",
       "      <th>vehicle</th>\n",
       "      <th>androidId</th>\n",
       "      <th>gender</th>\n",
       "      <th>age</th>\n",
       "    </tr>\n",
       "  </thead>\n",
       "  <tbody>\n",
       "    <tr>\n",
       "      <td>count</td>\n",
       "      <td>9</td>\n",
       "      <td>9</td>\n",
       "      <td>9</td>\n",
       "      <td>9</td>\n",
       "      <td>9</td>\n",
       "    </tr>\n",
       "    <tr>\n",
       "      <td>unique</td>\n",
       "      <td>9</td>\n",
       "      <td>8</td>\n",
       "      <td>9</td>\n",
       "      <td>2</td>\n",
       "      <td>6</td>\n",
       "    </tr>\n",
       "  </tbody>\n",
       "</table>\n",
       "</div>"
      ],
      "text/plain": [
       "       _id vehicle androidId gender age\n",
       "count    9       9         9      9   9\n",
       "unique   9       8         9      2   6"
      ]
     },
     "execution_count": 87,
     "metadata": {},
     "output_type": "execute_result"
    }
   ],
   "source": [
    "full_desc.drop(\n",
    "    labels=[\"top\",\"freq\"],\n",
    "    axis = 0\n",
    ")"
   ]
  },
  {
   "cell_type": "code",
   "execution_count": 88,
   "metadata": {},
   "outputs": [
    {
     "data": {
      "text/plain": [
       "Text(0.5, 0, 'Age')"
      ]
     },
     "execution_count": 88,
     "metadata": {},
     "output_type": "execute_result"
    },
    {
     "data": {
      "image/png": "[encoded data removed]",
      "text/plain": [
       "<Figure size 432x288 with 1 Axes>"
      ]
     },
     "metadata": {
      "needs_background": "light"
     },
     "output_type": "display_data"
    }
   ],
   "source": [
    "age = df_drivers[\"age\"].astype(int)\n",
    "age = age.sort_values()\n",
    "age.hist(bins=9)\n",
    "plt.ylabel('Frequency')\n",
    "plt.xlabel('Age')"
   ]
  },
  {
   "cell_type": "code",
   "execution_count": 89,
   "metadata": {},
   "outputs": [
    {
     "data": {
      "text/plain": [
       "<matplotlib.axes._subplots.AxesSubplot at 0x231b579edc8>"
      ]
     },
     "execution_count": 89,
     "metadata": {},
     "output_type": "execute_result"
    },
    {
     "data": {
      "image/png": "[encoded data removed]",
      "text/plain": [
       "<Figure size 432x288 with 1 Axes>"
      ]
     },
     "metadata": {
      "needs_background": "light"
     },
     "output_type": "display_data"
    }
   ],
   "source": [
    "by_gender = df_drivers.groupby('gender')\n",
    "by_gender.size().plot(kind='bar')"
   ]
  },
  {
   "cell_type": "code",
   "execution_count": 93,
   "metadata": {},
   "outputs": [
    {
     "data": {
      "text/html": [
       "<div>\n",
       "<style scoped>\n",
       "    .dataframe tbody tr th:only-of-type {\n",
       "        vertical-align: middle;\n",
       "    }\n",
       "\n",
       "    .dataframe tbody tr th {\n",
       "        vertical-align: top;\n",
       "    }\n",
       "\n",
       "    .dataframe thead th {\n",
       "        text-align: right;\n",
       "    }\n",
       "</style>\n",
       "<table border=\"1\" class=\"dataframe\">\n",
       "  <thead>\n",
       "    <tr style=\"text-align: right;\">\n",
       "      <th></th>\n",
       "      <th>_id</th>\n",
       "      <th>vehicleInfo</th>\n",
       "      <th>mobileDeviceInfo</th>\n",
       "      <th>tripId</th>\n",
       "      <th>tripStartTimestamp</th>\n",
       "    </tr>\n",
       "  </thead>\n",
       "  <tbody>\n",
       "    <tr>\n",
       "      <td>0</td>\n",
       "      <td>5f9edacf8a67f70262394a01</td>\n",
       "      <td>{'pids01_20': '983B0011', 'fuelType': 'Diesel'...</td>\n",
       "      <td>{'displayHeight': 2960, 'appVersion': '1.1.1 (...</td>\n",
       "      <td>41dc2eec-fea6-4b29-954f-1b231fd038d1</td>\n",
       "      <td>1604246215279</td>\n",
       "    </tr>\n",
       "    <tr>\n",
       "      <td>1</td>\n",
       "      <td>5fa0ffd016cf65026da2ff48</td>\n",
       "      <td>{'pids01_20': 'BE3EB811', 'fuelType': 'Petrol ...</td>\n",
       "      <td>{'displayHeight': 2192, 'appVersion': '1.1.1 (...</td>\n",
       "      <td>bfbc1576-c55a-4871-858a-840789a80afc</td>\n",
       "      <td>1604386762784</td>\n",
       "    </tr>\n",
       "    <tr>\n",
       "      <td>2</td>\n",
       "      <td>5fa17c7b8a67f7027cd861cb</td>\n",
       "      <td>{'pids01_20': 'BE3EB811', 'fuelType': 'Petrol ...</td>\n",
       "      <td>{'displayHeight': 2192, 'appVersion': '1.1.1 (...</td>\n",
       "      <td>591093cd-6579-444a-a04f-81da267abdb7</td>\n",
       "      <td>1604418678141</td>\n",
       "    </tr>\n",
       "    <tr>\n",
       "      <td>3</td>\n",
       "      <td>5fa182b34fb37d02db865ea1</td>\n",
       "      <td>{'pids01_20': 'BE3EB811', 'fuelType': 'Petrol ...</td>\n",
       "      <td>{'displayHeight': 2192, 'appVersion': '1.1.1 (...</td>\n",
       "      <td>91b5703b-86e6-41e6-a2b5-8b5b48859fad</td>\n",
       "      <td>1604420272699</td>\n",
       "    </tr>\n",
       "    <tr>\n",
       "      <td>4</td>\n",
       "      <td>5fa325284fb37d02db8660ad</td>\n",
       "      <td>{'pids01_20': '983B0011', 'fuelType': 'Diesel'...</td>\n",
       "      <td>{'displayHeight': 2960, 'appVersion': '1.1.2 (...</td>\n",
       "      <td>ba5aac62-b75d-45ee-9ddf-5d60226a6d11</td>\n",
       "      <td>1604527387075</td>\n",
       "    </tr>\n",
       "  </tbody>\n",
       "</table>\n",
       "</div>"
      ],
      "text/plain": [
       "                        _id  \\\n",
       "0  5f9edacf8a67f70262394a01   \n",
       "1  5fa0ffd016cf65026da2ff48   \n",
       "2  5fa17c7b8a67f7027cd861cb   \n",
       "3  5fa182b34fb37d02db865ea1   \n",
       "4  5fa325284fb37d02db8660ad   \n",
       "\n",
       "                                         vehicleInfo  \\\n",
       "0  {'pids01_20': '983B0011', 'fuelType': 'Diesel'...   \n",
       "1  {'pids01_20': 'BE3EB811', 'fuelType': 'Petrol ...   \n",
       "2  {'pids01_20': 'BE3EB811', 'fuelType': 'Petrol ...   \n",
       "3  {'pids01_20': 'BE3EB811', 'fuelType': 'Petrol ...   \n",
       "4  {'pids01_20': '983B0011', 'fuelType': 'Diesel'...   \n",
       "\n",
       "                                    mobileDeviceInfo  \\\n",
       "0  {'displayHeight': 2960, 'appVersion': '1.1.1 (...   \n",
       "1  {'displayHeight': 2192, 'appVersion': '1.1.1 (...   \n",
       "2  {'displayHeight': 2192, 'appVersion': '1.1.1 (...   \n",
       "3  {'displayHeight': 2192, 'appVersion': '1.1.1 (...   \n",
       "4  {'displayHeight': 2960, 'appVersion': '1.1.2 (...   \n",
       "\n",
       "                                 tripId  tripStartTimestamp  \n",
       "0  41dc2eec-fea6-4b29-954f-1b231fd038d1       1604246215279  \n",
       "1  bfbc1576-c55a-4871-858a-840789a80afc       1604386762784  \n",
       "2  591093cd-6579-444a-a04f-81da267abdb7       1604418678141  \n",
       "3  91b5703b-86e6-41e6-a2b5-8b5b48859fad       1604420272699  \n",
       "4  ba5aac62-b75d-45ee-9ddf-5d60226a6d11       1604527387075  "
      ]
     },
     "execution_count": 93,
     "metadata": {},
     "output_type": "execute_result"
    }
   ],
   "source": [
    "df_trips.head()"
   ]
  },
  {
   "cell_type": "code",
   "execution_count": 101,
   "metadata": {},
   "outputs": [
    {
     "data": {
      "text/plain": [
       "count                                      212\n",
       "unique                                     212\n",
       "top       267aa031-db65-423b-9fe1-c31f3976b012\n",
       "freq                                         1\n",
       "Name: tripId, dtype: object"
      ]
     },
     "execution_count": 101,
     "metadata": {},
     "output_type": "execute_result"
    }
   ],
   "source": [
    "df_trips[\"tripId\"].describe()"
   ]
  },
  {
   "cell_type": "code",
   "execution_count": 144,
   "metadata": {},
   "outputs": [
    {
     "data": {
      "text/html": [
       "<div>\n",
       "<style scoped>\n",
       "    .dataframe tbody tr th:only-of-type {\n",
       "        vertical-align: middle;\n",
       "    }\n",
       "\n",
       "    .dataframe tbody tr th {\n",
       "        vertical-align: top;\n",
       "    }\n",
       "\n",
       "    .dataframe thead th {\n",
       "        text-align: right;\n",
       "    }\n",
       "</style>\n",
       "<table border=\"1\" class=\"dataframe\">\n",
       "  <thead>\n",
       "    <tr style=\"text-align: right;\">\n",
       "      <th></th>\n",
       "      <th>_id</th>\n",
       "      <th>vehicleInfo</th>\n",
       "      <th>mobileDeviceInfo</th>\n",
       "      <th>tripId</th>\n",
       "      <th>tripStartTimestamp</th>\n",
       "    </tr>\n",
       "  </thead>\n",
       "  <tbody>\n",
       "    <tr>\n",
       "      <td>0</td>\n",
       "      <td>5f9edacf8a67f70262394a01</td>\n",
       "      <td>{'pids01_20': '983B0011', 'fuelType': 'Diesel'...</td>\n",
       "      <td>{'displayHeight': 2960, 'appVersion': '1.1.1 (...</td>\n",
       "      <td>41dc2eec-fea6-4b29-954f-1b231fd038d1</td>\n",
       "      <td>1604246215279</td>\n",
       "    </tr>\n",
       "    <tr>\n",
       "      <td>1</td>\n",
       "      <td>5fa0ffd016cf65026da2ff48</td>\n",
       "      <td>{'pids01_20': 'BE3EB811', 'fuelType': 'Petrol ...</td>\n",
       "      <td>{'displayHeight': 2192, 'appVersion': '1.1.1 (...</td>\n",
       "      <td>bfbc1576-c55a-4871-858a-840789a80afc</td>\n",
       "      <td>1604386762784</td>\n",
       "    </tr>\n",
       "    <tr>\n",
       "      <td>2</td>\n",
       "      <td>5fa17c7b8a67f7027cd861cb</td>\n",
       "      <td>{'pids01_20': 'BE3EB811', 'fuelType': 'Petrol ...</td>\n",
       "      <td>{'displayHeight': 2192, 'appVersion': '1.1.1 (...</td>\n",
       "      <td>591093cd-6579-444a-a04f-81da267abdb7</td>\n",
       "      <td>1604418678141</td>\n",
       "    </tr>\n",
       "    <tr>\n",
       "      <td>3</td>\n",
       "      <td>5fa182b34fb37d02db865ea1</td>\n",
       "      <td>{'pids01_20': 'BE3EB811', 'fuelType': 'Petrol ...</td>\n",
       "      <td>{'displayHeight': 2192, 'appVersion': '1.1.1 (...</td>\n",
       "      <td>91b5703b-86e6-41e6-a2b5-8b5b48859fad</td>\n",
       "      <td>1604420272699</td>\n",
       "    </tr>\n",
       "    <tr>\n",
       "      <td>4</td>\n",
       "      <td>5fa325284fb37d02db8660ad</td>\n",
       "      <td>{'pids01_20': '983B0011', 'fuelType': 'Diesel'...</td>\n",
       "      <td>{'displayHeight': 2960, 'appVersion': '1.1.2 (...</td>\n",
       "      <td>ba5aac62-b75d-45ee-9ddf-5d60226a6d11</td>\n",
       "      <td>1604527387075</td>\n",
       "    </tr>\n",
       "  </tbody>\n",
       "</table>\n",
       "</div>"
      ],
      "text/plain": [
       "                        _id  \\\n",
       "0  5f9edacf8a67f70262394a01   \n",
       "1  5fa0ffd016cf65026da2ff48   \n",
       "2  5fa17c7b8a67f7027cd861cb   \n",
       "3  5fa182b34fb37d02db865ea1   \n",
       "4  5fa325284fb37d02db8660ad   \n",
       "\n",
       "                                         vehicleInfo  \\\n",
       "0  {'pids01_20': '983B0011', 'fuelType': 'Diesel'...   \n",
       "1  {'pids01_20': 'BE3EB811', 'fuelType': 'Petrol ...   \n",
       "2  {'pids01_20': 'BE3EB811', 'fuelType': 'Petrol ...   \n",
       "3  {'pids01_20': 'BE3EB811', 'fuelType': 'Petrol ...   \n",
       "4  {'pids01_20': '983B0011', 'fuelType': 'Diesel'...   \n",
       "\n",
       "                                    mobileDeviceInfo  \\\n",
       "0  {'displayHeight': 2960, 'appVersion': '1.1.1 (...   \n",
       "1  {'displayHeight': 2192, 'appVersion': '1.1.1 (...   \n",
       "2  {'displayHeight': 2192, 'appVersion': '1.1.1 (...   \n",
       "3  {'displayHeight': 2192, 'appVersion': '1.1.1 (...   \n",
       "4  {'displayHeight': 2960, 'appVersion': '1.1.2 (...   \n",
       "\n",
       "                                 tripId  tripStartTimestamp  \n",
       "0  41dc2eec-fea6-4b29-954f-1b231fd038d1       1604246215279  \n",
       "1  bfbc1576-c55a-4871-858a-840789a80afc       1604386762784  \n",
       "2  591093cd-6579-444a-a04f-81da267abdb7       1604418678141  \n",
       "3  91b5703b-86e6-41e6-a2b5-8b5b48859fad       1604420272699  \n",
       "4  ba5aac62-b75d-45ee-9ddf-5d60226a6d11       1604527387075  "
      ]
     },
     "execution_count": 144,
     "metadata": {},
     "output_type": "execute_result"
    }
   ],
   "source": [
    "df_trips.head()"
   ]
  },
  {
   "cell_type": "code",
   "execution_count": 143,
   "metadata": {},
   "outputs": [
    {
     "data": {
      "image/png": "[encoded data removed]",
      "text/plain": [
       "<Figure size 432x288 with 1 Axes>"
      ]
     },
     "metadata": {
      "needs_background": "light"
     },
     "output_type": "display_data"
    }
   ],
   "source": [
    "fuels = []\n",
    "for i in df_trips[\"vehicleInfo\"].iteritems():\n",
    "    #print((i[1])['fuelType'])\n",
    "    fuels.append((i[1])['fuelType'])\n",
    "n, bins, patches=plt.hist(fuels)\n",
    "plt.xlabel(\"Fuel type\")\n",
    "plt.ylabel(\"Frequency\")\n",
    "plt.title(\"Histogram\")\n",
    "plt.show()"
   ]
  },
  {
   "cell_type": "code",
   "execution_count": 160,
   "metadata": {},
   "outputs": [
    {
     "data": {
      "image/png": "[encoded data removed]",
      "text/plain": [
       "<Figure size 432x288 with 1 Axes>"
      ]
     },
     "metadata": {
      "needs_background": "light"
     },
     "output_type": "display_data"
    }
   ],
   "source": [
    "androids = []\n",
    "for i in df_trips[\"mobileDeviceInfo\"].iteritems():\n",
    "    #print((i[1])['fuelType'])\n",
    "    androids.append((i[1])['androidId'])\n",
    "n, bins, patches=plt.hist(androids)\n",
    "plt.xlabel(\"Driver\")\n",
    "plt.ylabel(\"Frequency\")\n",
    "plt.title(\"Histogram\")\n",
    "plt.show()"
   ]
  }
 ],
 "metadata": {
  "kernelspec": {
   "display_name": "Python 3",
   "language": "python",
   "name": "python3"
  },
  "language_info": {
   "codemirror_mode": {
    "name": "ipython",
    "version": 3
   },
   "file_extension": ".py",
   "mimetype": "text/x-python",
   "name": "python",
   "nbconvert_exporter": "python",
   "pygments_lexer": "ipython3",
   "version": "3.7.4"
  }
 },
 "nbformat": 4,
 "nbformat_minor": 2
}